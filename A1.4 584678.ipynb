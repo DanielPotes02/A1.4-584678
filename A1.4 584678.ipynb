{
 "cells": [
  {
   "cell_type": "markdown",
   "metadata": {},
   "source": [
    "## A1.4 Selección de características"
   ]
  },
  {
   "cell_type": "markdown",
   "metadata": {},
   "source": [
    "**1. Importa los datos del archivo “Vino Tinto.csv” a tu ambiente de trabajo. Este archivo lo encontrarás en la misma página donde descargaste esta plantilla. Revisa las dimensiones del data frame e imprime en consola tanto dichas dimensiones como las primeras 5 filas de datos**"
   ]
  },
  {
   "cell_type": "code",
   "execution_count": 32,
   "metadata": {},
   "outputs": [
    {
     "name": "stdout",
     "output_type": "stream",
     "text": [
      "Dimensiones del dataframe:  (1599, 12)\n",
      "\n",
      "Primeras 5 filas:\n",
      "    acidezFija  acidezVolatil  acidoCitrico  azucarResidual  cloruros  \\\n",
      "0         7.4           0.70          0.00             1.9     0.076   \n",
      "1         7.8           0.88          0.00             2.6     0.098   \n",
      "2         7.8           0.76          0.04             2.3     0.092   \n",
      "3        11.2           0.28          0.56             1.9     0.075   \n",
      "4         7.4           0.70          0.00             1.9     0.076   \n",
      "\n",
      "   dioxidoAzufreLibre  dioxidoAzufreTotal  densidad    pH  sulfatos  alcohol  \\\n",
      "0                11.0                34.0    0.9978  3.51      0.56      9.4   \n",
      "1                25.0                67.0    0.9968  3.20      0.68      9.8   \n",
      "2                15.0                54.0    0.9970  3.26      0.65      9.8   \n",
      "3                17.0                60.0    0.9980  3.16      0.58      9.8   \n",
      "4                11.0                34.0    0.9978  3.51      0.56      9.4   \n",
      "\n",
      "   calidad  \n",
      "0        5  \n",
      "1        5  \n",
      "2        5  \n",
      "3        6  \n",
      "4        5  \n"
     ]
    }
   ],
   "source": [
    "import pandas as pd\n",
    "import numpy as np\n",
    "import matplotlib.pyplot as plt\n",
    "\n",
    "# Importar los datos del archivo A1.3 NASA.csv\n",
    "data = pd.read_csv('A1.4 Vino Tinto.csv')\n",
    "\n",
    "# Imprimir las dimensiones del dataframe\n",
    "print(\"Dimensiones del dataframe: \", data.shape)\n",
    "\n",
    "# Imprimir las primeras 15 filas del dataframe\n",
    "print(\"\\nPrimeras 5 filas:\\n\",data.head())"
   ]
  },
  {
   "cell_type": "markdown",
   "metadata": {},
   "source": [
    "**2. Separa el data frame en datos de entrenamiento y datos de prueba con una proporción 80/20. Es decir, el 80% de los datos se usarán para entrenar el modelo y el resto para validar sus resultados. Asegúrate que la partición sea aleatoria, no es una buena práctica simplemente tomar las primeras observaciones para entrenar y las últimas para probar. Imprime en pantalla las dimensiones de ambos conjuntos de datos. Revisa y asegúrate que la cantidad de observaciones de ambos conjuntos de datos sumen a la cantidad de datos original.**"
   ]
  },
  {
   "cell_type": "code",
   "execution_count": 33,
   "metadata": {},
   "outputs": [
    {
     "name": "stdout",
     "output_type": "stream",
     "text": [
      "\n",
      "Número de datos en cada conjunto:\n",
      "Entrenamiento:  1279\n",
      "Prueba:  320\n",
      "Total:  1599\n"
     ]
    }
   ],
   "source": [
    "# Separar los datos en dos conjuntos: uno para entrenamiento y otro para prueba \n",
    "from sklearn.model_selection import train_test_split\n",
    "train, test = train_test_split(data, test_size=0.2, random_state=42)\n",
    "\n",
    "# Sumar el número de datos en cada conjunto\n",
    "print(\"\\nNúmero de datos en cada conjunto:\")\n",
    "print(\"Entrenamiento: \", len(train))\n",
    "print(\"Prueba: \", len(test))\n",
    "print(\"Total: \", len(train) + len(test))"
   ]
  },
  {
   "cell_type": "markdown",
   "metadata": {},
   "source": [
    "**3. Genera la metodología de selección hacia adelante e imprime en consola los índices o los nombres de las características seleccionadas. Para realizar este proceso, te recomiendo que utilices la función “SequentialFeatureSelector” de la librería “mlxtend.feature_selection”, en este enlace encontrarás más información sobre la misma. Lo más probable es que cuando hayas descargado Anaconda, esta librería no se haya incluido en la distribución, por lo que deberás instalarla manualmente; al final de las instrucciones de la actividad te indico cómo hacerlo. Aquí te dejo una descripción de los parámetros que te recomiendo usar:**\n",
    "\n",
    "* **estimator** Un modelo de regresión lineal. Te recomiendo usar la función LinearRegression de la librería sklearn.linear_model.\n",
    "* **k_features** Se puede seleccionar la cantidad de variables de salida que se desean, pero te recomiendo mejor usar un rango, y que el algoritmo determine el número adecuado. Por ejemplo, puedes definir el parámetro como (2,8), si te interesa que el método seleccione entre 2 y 8 variables.\n",
    "* **forward** Determina si se hace selección hacia adelante (True) o hacia atrás (False); en este caso queremos hacer selección hacia adelante.\n",
    "* **scoring** La métrica que se usará para determinar si un modelo es mejor que otro, te recomiendo definirla como ‘r2’ para usar la R cuadrada.\n",
    "* **cv** Si se desea realizar validación cruzada, y cuántas instancias de la misma. Te recomiendo definir este parámetro como 10.\n"
   ]
  },
  {
   "cell_type": "code",
   "execution_count": 34,
   "metadata": {},
   "outputs": [
    {
     "name": "stdout",
     "output_type": "stream",
     "text": [
      "Características seleccionadas: ['acidezVolatil', 'cloruros', 'dioxidoAzufreLibre', 'dioxidoAzufreTotal', 'pH', 'sulfatos', 'alcohol']\n"
     ]
    }
   ],
   "source": [
    "from mlxtend.feature_selection import SequentialFeatureSelector as SFS\n",
    "from sklearn.linear_model import LinearRegression\n",
    "# Generar elemento X\n",
    "x_train = train.drop('calidad', axis = 1)\n",
    "# Generar elemento Y\n",
    "y_train = train.calidad\n",
    "\n",
    "# Crear el modelo de regresión lineal\n",
    "model = LinearRegression()\n",
    "\n",
    "# Configurar y aplicar el Selector de Características\n",
    "sfs = SFS(model, k_features=(2, 8), forward=True, scoring='r2', cv=10)              \n",
    "\n",
    "# Ajustar el selector en los datos de entrenamiento\n",
    "sfs.fit(x_train, y_train)\n",
    "\n",
    "# Imprimir los nombres de las características seleccionadas\n",
    "selected_features = list(sfs.k_feature_names_)\n",
    "print(\"Características seleccionadas:\", selected_features)"
   ]
  },
  {
   "cell_type": "markdown",
   "metadata": {},
   "source": [
    "**4. Entrenar un modelo que solamente contenga las variables seleccionadas, predecir la respuesta en las observaciones de prueba y medir la capacidad de predicción del modelo usando la R cuadrada, imprimiendo dicho valor en consola. Para el primer paso, simplemente necesitas usar la función fit en el modelo de regresión lineal creado previamente, asegurándote de no introducir toda la información de X, sino solo de las variables seleccionadas. Para realizar las predicciones, puedes usar la función predict en los datos de prueba, pero recuerda para dichos datos también seleccionar solo las variables de interés. Para el último paso, te recomiendo usar la función r2_score de sklearn.metrics.**"
   ]
  },
  {
   "cell_type": "code",
   "execution_count": 35,
   "metadata": {},
   "outputs": [
    {
     "name": "stdout",
     "output_type": "stream",
     "text": [
      "R^2: 0.4012628835440285\n"
     ]
    }
   ],
   "source": [
    "from sklearn.metrics import r2_score\n",
    "\n",
    "# Selección de características\n",
    "x_train_selected = train[selected_features]\n",
    "x_test_selected = test[selected_features]\n",
    "y_test = test.calidad\n",
    "\n",
    "# Construir modelo\n",
    "model.fit(x_train_selected, y_train)\n",
    "\n",
    "# Realizar las predicciones sobre los datos de prueba con las mismas variables seleccionadas\n",
    "y_pred = model.predict(x_test_selected)\n",
    "\n",
    "# Calcular y imprimir el valor de R^2\n",
    "r2 = r2_score(y_test, y_pred)\n",
    "print(f\"R^2: {r2}\")"
   ]
  },
  {
   "cell_type": "markdown",
   "metadata": {},
   "source": [
    "**5. Realizar un proceso de selección hacia atrás a partir de las variables seleccionadas por el método de selección hacia adelante e imprimir en consola los índices o nombres de las variables seleccionadas. Para realizar este proceso, te recomiendo usar la misma función del paso 3, pero definiendo ahora forward=False. También te recomiendo especificar una menor cantidad de variables posibles, por ejemplo: k_features=(2,5).**"
   ]
  },
  {
   "cell_type": "code",
   "execution_count": 36,
   "metadata": {},
   "outputs": [
    {
     "name": "stdout",
     "output_type": "stream",
     "text": [
      "Características seleccionadas: ['acidezVolatil', 'cloruros', 'dioxidoAzufreTotal', 'sulfatos', 'alcohol']\n"
     ]
    }
   ],
   "source": [
    "#  Configurar y aplicar el Selector de Características\n",
    "sfs = SFS(model, k_features=(2, 5), forward=False, scoring='r2', cv=10)              \n",
    "\n",
    "# Ajustar el selector en los datos de entrenamiento\n",
    "sfs.fit(x_train_selected, y_train)\n",
    "\n",
    "#  Imprimir los nombres de las características seleccionadas\n",
    "selected_features_2 = list(sfs.k_feature_names_)\n",
    "print(\"Características seleccionadas:\", selected_features_2)\n"
   ]
  },
  {
   "cell_type": "markdown",
   "metadata": {},
   "source": [
    "**6. Repetir el paso 4, pero para un modelo que contenga solamente las variables seleccionadas en el paso 5.**"
   ]
  },
  {
   "cell_type": "code",
   "execution_count": 37,
   "metadata": {},
   "outputs": [
    {
     "name": "stdout",
     "output_type": "stream",
     "text": [
      "R^2: 0.3958889666765396\n"
     ]
    }
   ],
   "source": [
    "# Selección de características\n",
    "x_train_selected_2 = train[selected_features_2]\n",
    "x_test_selected_2 = test[selected_features_2]\n",
    "y_test = test.calidad\n",
    "\n",
    "# Construir modelo\n",
    "model.fit(x_train_selected_2, y_train)\n",
    "\n",
    "# Realizar las predicciones sobre los datos de prueba con las mismas variables seleccionadas\n",
    "y_pred = model.predict(x_test_selected_2)\n",
    "\n",
    "# Calcular y imprimir el valor de R^2\n",
    "r2 = r2_score(y_test, y_pred)\n",
    "print(f\"R^2: {r2}\")"
   ]
  },
  {
   "cell_type": "markdown",
   "metadata": {},
   "source": [
    "**Imprime en pantalla un breve texto que describa tu opinión sobre la diferencia en R cuadrada medida entre los modelos de los pasos 4 y 6 ¿Cuál modelo consideras que es mejor? ¿Por qué?**"
   ]
  },
  {
   "cell_type": "markdown",
   "metadata": {},
   "source": [
    "El mejor modelo es el último (Paso 6), debido a que, además de tener un R cuadrada menor (R cuadrada de Paso 6 = 0.396, R cuadrada de Paso 4 = 0.401), también utiliza una menor cantidad de variables, lo cual significaría que su R ajustada sería incluso menor."
   ]
  },
  {
   "cell_type": "markdown",
   "metadata": {},
   "source": [
    "**Firma de honor:**  \"Doy mi palabra que he realizado esta actividad con integridad académica\" - Daniel Matthieu Potes Lesoinne #584678"
   ]
  }
 ],
 "metadata": {
  "kernelspec": {
   "display_name": "Python 3",
   "language": "python",
   "name": "python3"
  },
  "language_info": {
   "codemirror_mode": {
    "name": "ipython",
    "version": 3
   },
   "file_extension": ".py",
   "mimetype": "text/x-python",
   "name": "python",
   "nbconvert_exporter": "python",
   "pygments_lexer": "ipython3",
   "version": "3.11.9"
  }
 },
 "nbformat": 4,
 "nbformat_minor": 2
}
